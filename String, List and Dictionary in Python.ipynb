{
 "cells": [
  {
   "cell_type": "markdown",
   "metadata": {},
   "source": [
    "# String, List and Dictionary in python"
   ]
  },
  {
   "cell_type": "markdown",
   "metadata": {},
   "source": [
    "## 1. String"
   ]
  },
  {
   "cell_type": "markdown",
   "metadata": {},
   "source": [
    "### Quotes, Double Quotes"
   ]
  },
  {
   "cell_type": "code",
   "execution_count": 11,
   "metadata": {},
   "outputs": [
    {
     "name": "stdout",
     "output_type": "stream",
     "text": [
      "[\"one 'two' three\", \"one 'two' three\", 'one \\'two\\' and \"three\" four']\n"
     ]
    }
   ],
   "source": [
    "s1 = \"one 'two' three\"\n",
    "s2 = '''one 'two' three'''\n",
    "s3 = \"\"\"one 'two' and \"three\" four\"\"\"\n",
    "x = [s1, s2, s3]\n",
    "\n",
    "print(x)"
   ]
  },
  {
   "cell_type": "markdown",
   "metadata": {},
   "source": [
    "### Escape sequence"
   ]
  },
  {
   "cell_type": "code",
   "execution_count": 13,
   "metadata": {},
   "outputs": [
    {
     "name": "stdout",
     "output_type": "stream",
     "text": [
      "Let's go to school.\n",
      "I said \"This is awesome\" to him\n",
      "Hi \n",
      "I'm Taechung'\n",
      "Hi \t I'm Taechung'\n"
     ]
    }
   ],
   "source": [
    "print('Let\\'s go to school.')\n",
    "print(\"I said \\\"This is awesome\\\" to him\")  # Using quotes in string\n",
    "print(\"Hi \\nI\\'m Taechung'\")    # Change line\n",
    "print(\"Hi \\t I\\'m Taechung'\")   # Tab spacing"
   ]
  },
  {
   "cell_type": "markdown",
   "metadata": {},
   "source": [
    "### String function"
   ]
  },
  {
   "cell_type": "markdown",
   "metadata": {},
   "source": [
    "* sorted, center, ljust, rjust"
   ]
  },
  {
   "cell_type": "code",
   "execution_count": 25,
   "metadata": {},
   "outputs": [
    {
     "name": "stdout",
     "output_type": "stream",
     "text": [
      "['h', 'n', 'o', 'p', 't', 'y']\n",
      "       python       \n",
      "python              \n",
      "              python\n"
     ]
    }
   ],
   "source": [
    "text = 'python'\n",
    "print(sorted(text))   # sorted from small ASCII code \n",
    "print(text.center(20))\n",
    "print(text.ljust(20))\n",
    "print(text.rjust(20))"
   ]
  },
  {
   "cell_type": "markdown",
   "metadata": {},
   "source": [
    "* reversed"
   ]
  },
  {
   "cell_type": "code",
   "execution_count": 17,
   "metadata": {},
   "outputs": [
    {
     "name": "stdout",
     "output_type": "stream",
     "text": [
      "<reversed object at 0x0000000005475E10>\n",
      "['n', 'o', 'h', 't', 'y', 'p']\n"
     ]
    }
   ],
   "source": [
    "text = 'python'\n",
    "R = reversed(text)\n",
    "print(R)\n",
    "print(list(R))"
   ]
  },
  {
   "cell_type": "markdown",
   "metadata": {},
   "source": [
    "* capitalize, title, upper, lower"
   ]
  },
  {
   "cell_type": "code",
   "execution_count": 22,
   "metadata": {},
   "outputs": [
    {
     "name": "stdout",
     "output_type": "stream",
     "text": [
      "Hello world\n",
      "Hello World\n",
      "HELLO WORLD\n",
      "hello world\n"
     ]
    }
   ],
   "source": [
    "text = 'hello world'\n",
    "print(text.capitalize()) # upper first letter\n",
    "print(text.title()) # upper first letter of every word\n",
    "print(text.upper()) # upper every letter\n",
    "print(text.lower()) # lower every letter"
   ]
  },
  {
   "cell_type": "markdown",
   "metadata": {},
   "source": [
    "* count, index, rindex, find, rfind, startswith, endswith"
   ]
  },
  {
   "cell_type": "code",
   "execution_count": 31,
   "metadata": {},
   "outputs": [
    {
     "name": "stdout",
     "output_type": "stream",
     "text": [
      "2\n",
      "4\n",
      "6\n",
      "True\n"
     ]
    }
   ],
   "source": [
    "text = 'hello world'\n",
    "print(text.count('o')) # counting how many 'o' in text\n",
    "print(text.index('o',3, 8)) # find and return where 'w' is + added two number means range of text [3:8]\n",
    "print(text.find('w')) # almost same with index but return -1 if it has ValueError\n",
    "print(text.startswith('h')) # checking 'h' is start letter"
   ]
  },
  {
   "cell_type": "markdown",
   "metadata": {},
   "source": [
    "* format, %"
   ]
  },
  {
   "cell_type": "code",
   "execution_count": 34,
   "metadata": {},
   "outputs": [
    {
     "data": {
      "text/plain": [
       "'I like baseball and soccer, but my favorite is baseball'"
      ]
     },
     "execution_count": 34,
     "metadata": {},
     "output_type": "execute_result"
    }
   ],
   "source": [
    "text = 'I like {0} and {1}, but my favorite is {0}'\n",
    "text.format('baseball', 'soccer') # baseball=0, soccer=1"
   ]
  },
  {
   "cell_type": "code",
   "execution_count": 36,
   "metadata": {},
   "outputs": [
    {
     "data": {
      "text/plain": [
       "'1, 2, 3'"
      ]
     },
     "execution_count": 36,
     "metadata": {},
     "output_type": "execute_result"
    }
   ],
   "source": [
    "dic = {'a':1, 'b':2, 'c':3}\n",
    "'{a}, {b}, {c}'.format_map(dic) # dictionary variable in format"
   ]
  },
  {
   "cell_type": "code",
   "execution_count": 38,
   "metadata": {},
   "outputs": [
    {
     "data": {
      "text/plain": [
       "'test______'"
      ]
     },
     "execution_count": 38,
     "metadata": {},
     "output_type": "execute_result"
    }
   ],
   "source": [
    "'{:_<10}'.format('test')"
   ]
  },
  {
   "cell_type": "code",
   "execution_count": 39,
   "metadata": {},
   "outputs": [
    {
     "data": {
      "text/plain": [
       "'   test   '"
      ]
     },
     "execution_count": 39,
     "metadata": {},
     "output_type": "execute_result"
    }
   ],
   "source": [
    "'{:^10}'.format('test')"
   ]
  },
  {
   "cell_type": "code",
   "execution_count": 40,
   "metadata": {},
   "outputs": [
    {
     "data": {
      "text/plain": [
       "'xylop'"
      ]
     },
     "execution_count": 40,
     "metadata": {},
     "output_type": "execute_result"
    }
   ],
   "source": [
    "'{:.5}'.format('xylophone')"
   ]
  },
  {
   "cell_type": "code",
   "execution_count": 47,
   "metadata": {},
   "outputs": [
    {
     "data": {
      "text/plain": [
       "'003.14'"
      ]
     },
     "execution_count": 47,
     "metadata": {},
     "output_type": "execute_result"
    }
   ],
   "source": [
    "'{:06.2f}'.format(3.141592653589793) # f means decimal places"
   ]
  },
  {
   "cell_type": "code",
   "execution_count": 49,
   "metadata": {},
   "outputs": [
    {
     "name": "stdout",
     "output_type": "stream",
     "text": [
      "10 and 20.000000 and 30\n"
     ]
    }
   ],
   "source": [
    "a = 10; b = 20; c = 30\n",
    "print('%d and %f and %s' %(a,b,c)) # d=integer, f=float, s=string"
   ]
  },
  {
   "cell_type": "markdown",
   "metadata": {},
   "source": [
    "* join, split, partition, replace"
   ]
  },
  {
   "cell_type": "code",
   "execution_count": 42,
   "metadata": {},
   "outputs": [
    {
     "name": "stdout",
     "output_type": "stream",
     "text": [
      "soccer**golf**baseball\n"
     ]
    }
   ],
   "source": [
    "list = ['soccer', 'golf', 'baseball'] # join with j(**)\n",
    "j = '**'\n",
    "print(j.join(list))"
   ]
  },
  {
   "cell_type": "code",
   "execution_count": 43,
   "metadata": {},
   "outputs": [
    {
     "name": "stdout",
     "output_type": "stream",
     "text": [
      "['Python', 'is', 'most', 'useful', 'computer', 'language.']\n"
     ]
    }
   ],
   "source": [
    "text = 'Python is most useful computer language.'\n",
    "print(text.split()) # split text ' ':spacebar"
   ]
  },
  {
   "cell_type": "code",
   "execution_count": 44,
   "metadata": {},
   "outputs": [
    {
     "name": "stdout",
     "output_type": "stream",
     "text": [
      "('Python ', 'is', ' most useful computer language')\n"
     ]
    }
   ],
   "source": [
    "text = 'Python is most useful computer language'\n",
    "print(text.partition('is')) # split text 'is'"
   ]
  },
  {
   "cell_type": "code",
   "execution_count": 45,
   "metadata": {},
   "outputs": [
    {
     "name": "stdout",
     "output_type": "stream",
     "text": [
      "Python is most difficult computer language\n"
     ]
    }
   ],
   "source": [
    "text = 'Python is most useful computer language'\n",
    "print(text.replace('useful', 'difficult')) # replace 'useful' to 'difficult'"
   ]
  },
  {
   "cell_type": "markdown",
   "metadata": {},
   "source": [
    "## 2. List"
   ]
  },
  {
   "cell_type": "code",
   "execution_count": 61,
   "metadata": {},
   "outputs": [
    {
     "name": "stdout",
     "output_type": "stream",
     "text": [
      "['P', 'y', 't', 'h', 'o', 'n']\n",
      "[1, 2, 3, 4, 5]\n",
      "[1, 2, 3, 4, 5]\n",
      "['a', 'b', 'c']\n"
     ]
    }
   ],
   "source": [
    "text = 'Python'\n",
    "print(list(text)) # string to list\n",
    "\n",
    "A = (1,2,3,4,5)\n",
    "print(list(A)) # tuple to list\n",
    "\n",
    "B = {4,1,2,3,5}\n",
    "print(list(B))\n",
    "\n",
    "dic = {'a':1, 'b':2, 'c':3}\n",
    "print(list(dic)) # list only 'key' value"
   ]
  },
  {
   "cell_type": "code",
   "execution_count": 63,
   "metadata": {},
   "outputs": [
    {
     "data": {
      "text/plain": [
       "['one', 'two', 'three', '3', '4', '5', 'six', 'seven', 'eight']"
      ]
     },
     "execution_count": 63,
     "metadata": {},
     "output_type": "execute_result"
    }
   ],
   "source": [
    "number = ['one', 'two', 'three', 'four', 'five', 'six', 'seven', 'eight']\n",
    "number[3:5] = '345' # list is mutable\n",
    "number"
   ]
  },
  {
   "cell_type": "code",
   "execution_count": 64,
   "metadata": {},
   "outputs": [
    {
     "data": {
      "text/plain": [
       "(85940872, 85974024)"
      ]
     },
     "execution_count": 64,
     "metadata": {},
     "output_type": "execute_result"
    }
   ],
   "source": [
    "List = [1, 2, 3, 4, 5]\n",
    "List_1 = List.copy() # copy list\n",
    "id(List), id(List_1) # different id"
   ]
  },
  {
   "cell_type": "code",
   "execution_count": 69,
   "metadata": {},
   "outputs": [
    {
     "data": {
      "text/plain": [
       "[1, 2, 3, 4, 5, 1, 2, 5]"
      ]
     },
     "execution_count": 69,
     "metadata": {},
     "output_type": "execute_result"
    }
   ],
   "source": [
    "List = [1, 2, 3, 4, 5, 1, 2, 5]\n",
    "List.index(5, 3) # find first '5' in list[3:]\n",
    "result = List.reverse()\n",
    "print(List)"
   ]
  },
  {
   "cell_type": "code",
   "execution_count": 71,
   "metadata": {},
   "outputs": [
    {
     "name": "stdout",
     "output_type": "stream",
     "text": [
      "[5, 4, 3, 2, 1]\n",
      "None\n"
     ]
    }
   ],
   "source": [
    "List = [1, 2, 3, 4, 5]\n",
    "result = List.reverse() # reversed list, result has no return value\n",
    "print(List)\n",
    "print(result)"
   ]
  },
  {
   "cell_type": "code",
   "execution_count": 72,
   "metadata": {},
   "outputs": [
    {
     "data": {
      "text/plain": [
       "[1, 2, 4, 6, 7, 10, 20]"
      ]
     },
     "execution_count": 72,
     "metadata": {},
     "output_type": "execute_result"
    }
   ],
   "source": [
    "List = [1, 4, 2, 6, 7, 10, 20]\n",
    "List.sort() # sorting by ASCII code\n",
    "List"
   ]
  },
  {
   "cell_type": "markdown",
   "metadata": {},
   "source": [
    "* list in list"
   ]
  },
  {
   "cell_type": "code",
   "execution_count": 74,
   "metadata": {},
   "outputs": [
    {
     "name": "stdout",
     "output_type": "stream",
     "text": [
      " 4.83\n",
      " 5.60\n",
      " 9.60\n"
     ]
    }
   ],
   "source": [
    "List = [[1, 3, 4, 5, 7, 9],\n",
    "       [2, 5, 6, 7, 8],\n",
    "       [5, 8, 10, 11, 14]]\n",
    "average = []\n",
    "for i in range(len(List)):\n",
    "    average.append(sum(List[i])/len(List[i])) # average of each list\n",
    "for i in range(len(average)):\n",
    "    print('{:5.2f}'.format(average[i]))"
   ]
  },
  {
   "cell_type": "markdown",
   "metadata": {},
   "source": [
    "## 3. Dictionary"
   ]
  },
  {
   "cell_type": "code",
   "execution_count": 77,
   "metadata": {},
   "outputs": [
    {
     "name": "stdout",
     "output_type": "stream",
     "text": [
      "{'a': 1, 'b': 2, 'c': 100, 'd': 4, 'e': 5, 'g': 7}\n"
     ]
    }
   ],
   "source": [
    "dic = {'a':1, 'b':2, 'c':3, 'd':4, 'e':5}\n",
    "dic['g'] = 7 # add key and value\n",
    "dic['c'] = 100 # update value (if 'c' is exist in dictionary)\n",
    "print(dic)"
   ]
  },
  {
   "cell_type": "code",
   "execution_count": 78,
   "metadata": {},
   "outputs": [
    {
     "name": "stdout",
     "output_type": "stream",
     "text": [
      "{}\n"
     ]
    }
   ],
   "source": [
    "dic = {'a':1, 'b':2, 'c':3, 'd':4, 'e':5}\n",
    "dic.clear() # clean all data\n",
    "print(dic)"
   ]
  },
  {
   "cell_type": "markdown",
   "metadata": {},
   "source": [
    "* get, setdefault, pop, update"
   ]
  },
  {
   "cell_type": "code",
   "execution_count": 80,
   "metadata": {},
   "outputs": [
    {
     "data": {
      "text/plain": [
       "2"
      ]
     },
     "execution_count": 80,
     "metadata": {},
     "output_type": "execute_result"
    }
   ],
   "source": [
    "dic = {'a':1, 'b':2, 'c':3, 'd':4, 'e':5}\n",
    "dic.get('b') # return 'b' value"
   ]
  },
  {
   "cell_type": "code",
   "execution_count": 84,
   "metadata": {},
   "outputs": [
    {
     "name": "stdout",
     "output_type": "stream",
     "text": [
      "{'a': 1, 'b': 2, 'c': 3, 'd': 4, 'e': 5, 'g': None}\n"
     ]
    }
   ],
   "source": [
    "dic = {'a':1, 'b':2, 'c':3, 'd':4, 'e':5}\n",
    "dic.setdefault('b') # if key value exist in dictionary, return value\n",
    "dic.setdefault('g') # if key value doesn't exist in dictionary, create new key\n",
    "print(dic)"
   ]
  },
  {
   "cell_type": "code",
   "execution_count": 86,
   "metadata": {},
   "outputs": [
    {
     "name": "stdout",
     "output_type": "stream",
     "text": [
      "{'a': 1, 'b': 2, 'd': 4, 'e': 5}\n"
     ]
    }
   ],
   "source": [
    "dic = {'a':1, 'b':2, 'c':3, 'd':4, 'e':5}\n",
    "dic.pop('c') # delete key & value\n",
    "print(dic)"
   ]
  },
  {
   "cell_type": "code",
   "execution_count": 87,
   "metadata": {},
   "outputs": [
    {
     "name": "stdout",
     "output_type": "stream",
     "text": [
      "{'a': 1, 'b': 2, 'c': 3, 'd': 4, 'e': 5, 'A': 27, 'B': 28}\n"
     ]
    }
   ],
   "source": [
    "dic1 = {'a':1, 'b':2, 'c':3, 'd':4, 'e':5}\n",
    "dic2 = {'A':27, 'B':28}\n",
    "dic1.update(dic2) # add dic2 on dic1\n",
    "print(dic1)"
   ]
  }
 ],
 "metadata": {
  "kernelspec": {
   "display_name": "Python 3",
   "language": "python",
   "name": "python3"
  },
  "language_info": {
   "codemirror_mode": {
    "name": "ipython",
    "version": 3
   },
   "file_extension": ".py",
   "mimetype": "text/x-python",
   "name": "python",
   "nbconvert_exporter": "python",
   "pygments_lexer": "ipython3",
   "version": "3.6.5"
  }
 },
 "nbformat": 4,
 "nbformat_minor": 2
}
